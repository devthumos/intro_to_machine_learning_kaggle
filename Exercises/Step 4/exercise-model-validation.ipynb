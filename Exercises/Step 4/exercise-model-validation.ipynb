{
 "cells": [
  {
   "cell_type": "markdown",
   "id": "2250f441",
   "metadata": {
    "papermill": {
     "duration": 0.009587,
     "end_time": "2022-10-16T01:39:04.752586",
     "exception": false,
     "start_time": "2022-10-16T01:39:04.742999",
     "status": "completed"
    },
    "tags": []
   },
   "source": [
    "**This notebook is an exercise in the [Introduction to Machine Learning](https://www.kaggle.com/learn/intro-to-machine-learning) course.  You can reference the tutorial at [this link](https://www.kaggle.com/dansbecker/model-validation).**\n",
    "\n",
    "---\n"
   ]
  },
  {
   "cell_type": "markdown",
   "id": "69c299d7",
   "metadata": {
    "papermill": {
     "duration": 0.007021,
     "end_time": "2022-10-16T01:39:04.767066",
     "exception": false,
     "start_time": "2022-10-16T01:39:04.760045",
     "status": "completed"
    },
    "tags": []
   },
   "source": [
    "## Recap\n",
    "You've built a model. In this exercise you will test how good your model is.\n",
    "\n",
    "Run the cell below to set up your coding environment where the previous exercise left off."
   ]
  },
  {
   "cell_type": "code",
   "execution_count": 1,
   "id": "6b62a319",
   "metadata": {
    "execution": {
     "iopub.execute_input": "2022-10-16T01:39:04.784127Z",
     "iopub.status.busy": "2022-10-16T01:39:04.783234Z",
     "iopub.status.idle": "2022-10-16T01:39:06.345347Z",
     "shell.execute_reply": "2022-10-16T01:39:06.343520Z"
    },
    "papermill": {
     "duration": 1.57441,
     "end_time": "2022-10-16T01:39:06.348974",
     "exception": false,
     "start_time": "2022-10-16T01:39:04.774564",
     "status": "completed"
    },
    "tags": []
   },
   "outputs": [
    {
     "name": "stdout",
     "output_type": "stream",
     "text": [
      "First in-sample predictions: [208500. 181500. 223500. 140000. 250000.]\n",
      "Actual target values for those homes: [208500, 181500, 223500, 140000, 250000]\n",
      "Setup Complete\n"
     ]
    }
   ],
   "source": [
    "# Code you have previously used to load data\n",
    "import pandas as pd\n",
    "from sklearn.tree import DecisionTreeRegressor\n",
    "\n",
    "# Path of the file to read\n",
    "iowa_file_path = '../input/home-data-for-ml-course/train.csv'\n",
    "\n",
    "home_data = pd.read_csv(iowa_file_path)\n",
    "y = home_data.SalePrice\n",
    "feature_columns = ['LotArea', 'YearBuilt', '1stFlrSF', '2ndFlrSF', 'FullBath', 'BedroomAbvGr', 'TotRmsAbvGrd']\n",
    "X = home_data[feature_columns]\n",
    "\n",
    "# Specify Model\n",
    "iowa_model = DecisionTreeRegressor()\n",
    "# Fit Model\n",
    "iowa_model.fit(X, y)\n",
    "\n",
    "print(\"First in-sample predictions:\", iowa_model.predict(X.head()))\n",
    "print(\"Actual target values for those homes:\", y.head().tolist())\n",
    "\n",
    "# Set up code checking\n",
    "from learntools.core import binder\n",
    "binder.bind(globals())\n",
    "from learntools.machine_learning.ex4 import *\n",
    "print(\"Setup Complete\")"
   ]
  },
  {
   "cell_type": "markdown",
   "id": "7b3e2114",
   "metadata": {
    "papermill": {
     "duration": 0.004801,
     "end_time": "2022-10-16T01:39:06.359146",
     "exception": false,
     "start_time": "2022-10-16T01:39:06.354345",
     "status": "completed"
    },
    "tags": []
   },
   "source": [
    "# Exercises\n",
    "\n",
    "## Step 1: Split Your Data\n",
    "Use the `train_test_split` function to split up your data.\n",
    "\n",
    "Give it the argument `random_state=1` so the `check` functions know what to expect when verifying your code.\n",
    "\n",
    "Recall, your features are loaded in the DataFrame **X** and your target is loaded in **y**.\n"
   ]
  },
  {
   "cell_type": "code",
   "execution_count": 2,
   "id": "2d1f7169",
   "metadata": {
    "execution": {
     "iopub.execute_input": "2022-10-16T01:39:06.372277Z",
     "iopub.status.busy": "2022-10-16T01:39:06.371726Z",
     "iopub.status.idle": "2022-10-16T01:39:06.389111Z",
     "shell.execute_reply": "2022-10-16T01:39:06.387877Z"
    },
    "papermill": {
     "duration": 0.027258,
     "end_time": "2022-10-16T01:39:06.392124",
     "exception": false,
     "start_time": "2022-10-16T01:39:06.364866",
     "status": "completed"
    },
    "tags": []
   },
   "outputs": [
    {
     "data": {
      "application/javascript": [
       "parent.postMessage({\"jupyterEvent\": \"custom.exercise_interaction\", \"data\": {\"outcomeType\": 1, \"valueTowardsCompletion\": 0.25, \"interactionType\": 1, \"questionType\": 2, \"questionId\": \"1_SplitData\", \"learnToolsVersion\": \"0.3.4\", \"failureMessage\": \"\", \"exceptionClass\": \"\", \"trace\": \"\"}}, \"*\")"
      ],
      "text/plain": [
       "<IPython.core.display.Javascript object>"
      ]
     },
     "metadata": {},
     "output_type": "display_data"
    },
    {
     "data": {
      "text/markdown": [
       "<span style=\"color:#33cc33\">Correct</span>"
      ],
      "text/plain": [
       "Correct"
      ]
     },
     "metadata": {},
     "output_type": "display_data"
    }
   ],
   "source": [
    "from sklearn.model_selection import train_test_split\n",
    "from sklearn.metrics import mean_squared_error\n",
    "\n",
    "train_X, val_X, train_y, val_y = train_test_split(X, y, random_state=1)\n",
    "\n",
    "# Check your answer\n",
    "step_1.check()"
   ]
  },
  {
   "cell_type": "code",
   "execution_count": 3,
   "id": "4c0ba8c8",
   "metadata": {
    "execution": {
     "iopub.execute_input": "2022-10-16T01:39:06.405461Z",
     "iopub.status.busy": "2022-10-16T01:39:06.404994Z",
     "iopub.status.idle": "2022-10-16T01:39:06.411409Z",
     "shell.execute_reply": "2022-10-16T01:39:06.410230Z"
    },
    "papermill": {
     "duration": 0.01631,
     "end_time": "2022-10-16T01:39:06.414199",
     "exception": false,
     "start_time": "2022-10-16T01:39:06.397889",
     "status": "completed"
    },
    "tags": []
   },
   "outputs": [],
   "source": [
    "# The lines below will show you a hint or the solution.\n",
    "# step_1.hint() \n",
    "# step_1.solution()\n"
   ]
  },
  {
   "cell_type": "markdown",
   "id": "4b3bcf14",
   "metadata": {
    "papermill": {
     "duration": 0.005523,
     "end_time": "2022-10-16T01:39:06.425208",
     "exception": false,
     "start_time": "2022-10-16T01:39:06.419685",
     "status": "completed"
    },
    "tags": []
   },
   "source": [
    "## Step 2: Specify and Fit the Model\n",
    "\n",
    "Create a `DecisionTreeRegressor` model and fit it to the relevant data.\n",
    "Set `random_state` to 1 again when creating the model."
   ]
  },
  {
   "cell_type": "code",
   "execution_count": 4,
   "id": "9f71be47",
   "metadata": {
    "execution": {
     "iopub.execute_input": "2022-10-16T01:39:06.438782Z",
     "iopub.status.busy": "2022-10-16T01:39:06.438323Z",
     "iopub.status.idle": "2022-10-16T01:39:06.469059Z",
     "shell.execute_reply": "2022-10-16T01:39:06.467482Z"
    },
    "papermill": {
     "duration": 0.040731,
     "end_time": "2022-10-16T01:39:06.471712",
     "exception": false,
     "start_time": "2022-10-16T01:39:06.430981",
     "status": "completed"
    },
    "tags": []
   },
   "outputs": [
    {
     "name": "stdout",
     "output_type": "stream",
     "text": [
      "[186500. 184000. 130000.  92000. 164500. 220000. 335000. 144152. 215000.\n",
      " 262000.]\n",
      "[186500. 184000. 130000.  92000. 164500. 220000. 335000. 144152. 215000.\n",
      " 262000.]\n"
     ]
    },
    {
     "data": {
      "application/javascript": [
       "parent.postMessage({\"jupyterEvent\": \"custom.exercise_interaction\", \"data\": {\"outcomeType\": 1, \"valueTowardsCompletion\": 0.25, \"interactionType\": 1, \"questionType\": 2, \"questionId\": \"2_FitModelWithTrain\", \"learnToolsVersion\": \"0.3.4\", \"failureMessage\": \"\", \"exceptionClass\": \"\", \"trace\": \"\"}}, \"*\")"
      ],
      "text/plain": [
       "<IPython.core.display.Javascript object>"
      ]
     },
     "metadata": {},
     "output_type": "display_data"
    },
    {
     "data": {
      "text/markdown": [
       "<span style=\"color:#33cc33\">Correct</span>"
      ],
      "text/plain": [
       "Correct"
      ]
     },
     "metadata": {},
     "output_type": "display_data"
    }
   ],
   "source": [
    "# You imported DecisionTreeRegressor in your last exercise\n",
    "# and that code has been copied to the setup code above. So, no need to\n",
    "# import it again\n",
    "\n",
    "# Specify the model\n",
    "iowa_model = DecisionTreeRegressor(random_state=1)\n",
    "\n",
    "# Fit iowa_model with the training data.\n",
    "iowa_model.fit(train_X, train_y)\n",
    "\n",
    "# Check your answer\n",
    "step_2.check()"
   ]
  },
  {
   "cell_type": "code",
   "execution_count": 5,
   "id": "9eef3c98",
   "metadata": {
    "execution": {
     "iopub.execute_input": "2022-10-16T01:39:06.484941Z",
     "iopub.status.busy": "2022-10-16T01:39:06.484481Z",
     "iopub.status.idle": "2022-10-16T01:39:06.489795Z",
     "shell.execute_reply": "2022-10-16T01:39:06.488497Z"
    },
    "papermill": {
     "duration": 0.015075,
     "end_time": "2022-10-16T01:39:06.492431",
     "exception": false,
     "start_time": "2022-10-16T01:39:06.477356",
     "status": "completed"
    },
    "tags": []
   },
   "outputs": [],
   "source": [
    "# step_2.hint()\n",
    "# step_2.solution()"
   ]
  },
  {
   "cell_type": "markdown",
   "id": "ed9dac40",
   "metadata": {
    "papermill": {
     "duration": 0.005266,
     "end_time": "2022-10-16T01:39:06.503765",
     "exception": false,
     "start_time": "2022-10-16T01:39:06.498499",
     "status": "completed"
    },
    "tags": []
   },
   "source": [
    "## Step 3: Make Predictions with Validation data\n"
   ]
  },
  {
   "cell_type": "code",
   "execution_count": 6,
   "id": "6d8947bb",
   "metadata": {
    "execution": {
     "iopub.execute_input": "2022-10-16T01:39:06.516414Z",
     "iopub.status.busy": "2022-10-16T01:39:06.515968Z",
     "iopub.status.idle": "2022-10-16T01:39:06.530021Z",
     "shell.execute_reply": "2022-10-16T01:39:06.528743Z"
    },
    "papermill": {
     "duration": 0.023094,
     "end_time": "2022-10-16T01:39:06.532231",
     "exception": false,
     "start_time": "2022-10-16T01:39:06.509137",
     "status": "completed"
    },
    "tags": []
   },
   "outputs": [
    {
     "data": {
      "application/javascript": [
       "parent.postMessage({\"jupyterEvent\": \"custom.exercise_interaction\", \"data\": {\"outcomeType\": 1, \"valueTowardsCompletion\": 0.25, \"interactionType\": 1, \"questionType\": 2, \"questionId\": \"3_ValPreds\", \"learnToolsVersion\": \"0.3.4\", \"failureMessage\": \"\", \"exceptionClass\": \"\", \"trace\": \"\"}}, \"*\")"
      ],
      "text/plain": [
       "<IPython.core.display.Javascript object>"
      ]
     },
     "metadata": {},
     "output_type": "display_data"
    },
    {
     "data": {
      "text/markdown": [
       "<span style=\"color:#33cc33\">Correct</span>"
      ],
      "text/plain": [
       "Correct"
      ]
     },
     "metadata": {},
     "output_type": "display_data"
    }
   ],
   "source": [
    "# Predict with all validation observations\n",
    "val_predictions = iowa_model.predict(val_X)\n",
    "\n",
    "# Check your answer\n",
    "step_3.check()"
   ]
  },
  {
   "cell_type": "code",
   "execution_count": 7,
   "id": "6211c5f4",
   "metadata": {
    "execution": {
     "iopub.execute_input": "2022-10-16T01:39:06.546003Z",
     "iopub.status.busy": "2022-10-16T01:39:06.545586Z",
     "iopub.status.idle": "2022-10-16T01:39:06.550636Z",
     "shell.execute_reply": "2022-10-16T01:39:06.549368Z"
    },
    "papermill": {
     "duration": 0.015387,
     "end_time": "2022-10-16T01:39:06.553608",
     "exception": false,
     "start_time": "2022-10-16T01:39:06.538221",
     "status": "completed"
    },
    "tags": []
   },
   "outputs": [],
   "source": [
    "# step_3.hint()\n",
    "# step_3.solution()"
   ]
  },
  {
   "cell_type": "markdown",
   "id": "d3025135",
   "metadata": {
    "papermill": {
     "duration": 0.00538,
     "end_time": "2022-10-16T01:39:06.564771",
     "exception": false,
     "start_time": "2022-10-16T01:39:06.559391",
     "status": "completed"
    },
    "tags": []
   },
   "source": [
    "Inspect your predictions and actual values from validation data."
   ]
  },
  {
   "cell_type": "code",
   "execution_count": 8,
   "id": "99aa3feb",
   "metadata": {
    "execution": {
     "iopub.execute_input": "2022-10-16T01:39:06.579082Z",
     "iopub.status.busy": "2022-10-16T01:39:06.578694Z",
     "iopub.status.idle": "2022-10-16T01:39:06.590253Z",
     "shell.execute_reply": "2022-10-16T01:39:06.588844Z"
    },
    "papermill": {
     "duration": 0.022181,
     "end_time": "2022-10-16T01:39:06.592895",
     "exception": false,
     "start_time": "2022-10-16T01:39:06.570714",
     "status": "completed"
    },
    "tags": []
   },
   "outputs": [
    {
     "data": {
      "text/plain": [
       "array([186500., 184000., 130000.,  92000., 164500., 220000., 335000.,\n",
       "       144152., 215000., 262000., 180000., 121000., 175900., 210000.,\n",
       "       248900., 131000., 100000., 149350., 235000., 156000., 149900.,\n",
       "       265979., 193500., 377500., 100000., 162900., 145000., 180000.,\n",
       "       582933., 146000., 140000.,  91500., 112500., 113000., 145000.,\n",
       "       312500., 110000., 132000., 305000., 128000., 162900., 115000.,\n",
       "       110000., 124000., 215200., 180000.,  79000., 192000., 282922.,\n",
       "       235000., 132000., 325000.,  80000., 237000., 208300., 100000.,\n",
       "       120500., 162000., 153000., 187000., 185750., 335000., 129000.,\n",
       "       124900., 185750., 133700., 127000., 230000., 146800., 157900.,\n",
       "       136000., 153575., 335000., 177500., 143000., 202500., 168500.,\n",
       "       105000., 305900., 192000., 190000., 140200., 134900., 128950.,\n",
       "       213000., 108959., 149500., 190000., 175900., 160000., 250580.,\n",
       "       157000., 120500., 147500., 118000., 117000., 110000., 130000.,\n",
       "       148500., 148000., 190000., 130500., 127000., 120500., 135000.,\n",
       "       168000., 176432., 128000., 147000., 260000., 132000., 129500.,\n",
       "       171000., 181134., 227875., 189000., 282922.,  94750., 185000.,\n",
       "       194000., 159000., 279500., 290000., 135000., 299800., 165000.,\n",
       "       394432., 135750., 155000., 212000., 310000., 134800.,  84000.,\n",
       "       122900.,  80000., 191000., 755000., 147000., 248000., 106500.,\n",
       "       145000., 359100., 145000., 192500., 149000., 252000., 109000.,\n",
       "       215000., 220000., 138500., 185000., 185000., 120500., 181000.,\n",
       "       173000., 335000.,  67000., 149350.,  67000., 156000., 119000.,\n",
       "       110500., 184000., 147000., 156000., 171000., 177000., 159000.,\n",
       "       125000., 105000., 284000., 167500., 200000., 312500., 213000.,\n",
       "       135960., 205000., 237000., 107000., 163000., 132500., 155835.,\n",
       "       165500., 138500., 257000., 160000., 394617., 281213., 161000.,\n",
       "       127500.,  88000., 139000.,  89500., 132500., 134800., 335000.,\n",
       "       248900., 155000., 147000.,  86000., 185000., 200000., 180500.,\n",
       "       215200., 319900., 105000., 194000., 340000., 256000., 280000.,\n",
       "       186500., 105500., 155000., 133500., 255500., 253000., 130000.,\n",
       "        92900., 256000., 100000., 755000., 138500., 168500., 112000.,\n",
       "       127000., 109008., 197000., 245500., 171900., 162000., 128000.,\n",
       "       173000., 132000., 118000., 235128., 118964., 260000., 116000.,\n",
       "       185000., 315750., 236500., 140000., 151500., 184000.,  84000.,\n",
       "       130000., 154000., 205000., 110000., 151500., 123000., 129500.,\n",
       "       173900., 181500., 165500., 106500., 184900.,  84500., 377500.,\n",
       "       118500., 180000., 190000., 208500., 181000.,  98000., 157000.,\n",
       "       151500.,  84000., 139000., 100000., 161750., 165600., 116000.,\n",
       "       118500., 187000., 147000., 112000., 132000., 230000., 128000.,\n",
       "       147000., 125000., 145000., 151000., 284000., 221000., 140200.,\n",
       "       129000., 290000., 105000.,  96500., 310000., 140000., 132000.,\n",
       "       203000., 221000., 215200., 214000., 139000.,  91500., 148000.,\n",
       "       155000., 115000., 180000., 165500., 223000., 139000., 179900.,\n",
       "       150000., 185000., 163000., 176000., 127000., 227000., 146000.,\n",
       "        99900., 275000., 180500., 180000., 157000., 186500., 179900.,\n",
       "       137500., 219500., 155000., 345000., 197000., 205000., 159000.,\n",
       "       159434., 156000., 196000., 252678., 255500., 213000., 150900.,\n",
       "       143750., 139000., 260000., 189000., 213250., 207500.,  80000.,\n",
       "       221000., 109500., 155000., 165000., 149350., 204900., 105900.,\n",
       "       155000., 176000., 395000., 149700., 147000., 143900., 226700.,\n",
       "       176000., 116000., 325300., 133750., 188500., 148500., 284000.,\n",
       "       201800.])"
      ]
     },
     "execution_count": 8,
     "metadata": {},
     "output_type": "execute_result"
    }
   ],
   "source": [
    "val_predictions"
   ]
  },
  {
   "cell_type": "code",
   "execution_count": 9,
   "id": "e81b2704",
   "metadata": {
    "execution": {
     "iopub.execute_input": "2022-10-16T01:39:06.607983Z",
     "iopub.status.busy": "2022-10-16T01:39:06.606837Z",
     "iopub.status.idle": "2022-10-16T01:39:06.627240Z",
     "shell.execute_reply": "2022-10-16T01:39:06.625988Z"
    },
    "papermill": {
     "duration": 0.030827,
     "end_time": "2022-10-16T01:39:06.629921",
     "exception": false,
     "start_time": "2022-10-16T01:39:06.599094",
     "status": "completed"
    },
    "tags": []
   },
   "outputs": [
    {
     "data": {
      "text/html": [
       "<div>\n",
       "<style scoped>\n",
       "    .dataframe tbody tr th:only-of-type {\n",
       "        vertical-align: middle;\n",
       "    }\n",
       "\n",
       "    .dataframe tbody tr th {\n",
       "        vertical-align: top;\n",
       "    }\n",
       "\n",
       "    .dataframe thead th {\n",
       "        text-align: right;\n",
       "    }\n",
       "</style>\n",
       "<table border=\"1\" class=\"dataframe\">\n",
       "  <thead>\n",
       "    <tr style=\"text-align: right;\">\n",
       "      <th></th>\n",
       "      <th>Target</th>\n",
       "      <th>Prediction</th>\n",
       "    </tr>\n",
       "  </thead>\n",
       "  <tbody>\n",
       "    <tr>\n",
       "      <th>258</th>\n",
       "      <td>231500</td>\n",
       "      <td>186500.0</td>\n",
       "    </tr>\n",
       "    <tr>\n",
       "      <th>267</th>\n",
       "      <td>179500</td>\n",
       "      <td>184000.0</td>\n",
       "    </tr>\n",
       "    <tr>\n",
       "      <th>288</th>\n",
       "      <td>122000</td>\n",
       "      <td>130000.0</td>\n",
       "    </tr>\n",
       "    <tr>\n",
       "      <th>649</th>\n",
       "      <td>84500</td>\n",
       "      <td>92000.0</td>\n",
       "    </tr>\n",
       "    <tr>\n",
       "      <th>1233</th>\n",
       "      <td>142000</td>\n",
       "      <td>164500.0</td>\n",
       "    </tr>\n",
       "    <tr>\n",
       "      <th>...</th>\n",
       "      <td>...</td>\n",
       "      <td>...</td>\n",
       "    </tr>\n",
       "    <tr>\n",
       "      <th>1017</th>\n",
       "      <td>187500</td>\n",
       "      <td>133750.0</td>\n",
       "    </tr>\n",
       "    <tr>\n",
       "      <th>534</th>\n",
       "      <td>178000</td>\n",
       "      <td>188500.0</td>\n",
       "    </tr>\n",
       "    <tr>\n",
       "      <th>1334</th>\n",
       "      <td>125000</td>\n",
       "      <td>148500.0</td>\n",
       "    </tr>\n",
       "    <tr>\n",
       "      <th>1369</th>\n",
       "      <td>232000</td>\n",
       "      <td>284000.0</td>\n",
       "    </tr>\n",
       "    <tr>\n",
       "      <th>628</th>\n",
       "      <td>135000</td>\n",
       "      <td>201800.0</td>\n",
       "    </tr>\n",
       "  </tbody>\n",
       "</table>\n",
       "<p>365 rows × 2 columns</p>\n",
       "</div>"
      ],
      "text/plain": [
       "      Target  Prediction\n",
       "258   231500    186500.0\n",
       "267   179500    184000.0\n",
       "288   122000    130000.0\n",
       "649    84500     92000.0\n",
       "1233  142000    164500.0\n",
       "...      ...         ...\n",
       "1017  187500    133750.0\n",
       "534   178000    188500.0\n",
       "1334  125000    148500.0\n",
       "1369  232000    284000.0\n",
       "628   135000    201800.0\n",
       "\n",
       "[365 rows x 2 columns]"
      ]
     },
     "execution_count": 9,
     "metadata": {},
     "output_type": "execute_result"
    }
   ],
   "source": [
    "pd.DataFrame({\"Target\": val_y, \"Prediction\": val_predictions})"
   ]
  },
  {
   "cell_type": "markdown",
   "id": "cd153095",
   "metadata": {
    "papermill": {
     "duration": 0.006496,
     "end_time": "2022-10-16T01:39:06.642891",
     "exception": false,
     "start_time": "2022-10-16T01:39:06.636395",
     "status": "completed"
    },
    "tags": []
   },
   "source": [
    "What do you notice that is different from what you saw with in-sample predictions (which are printed after the top code cell in this page).\n",
    "\n",
    "Do you remember why validation predictions differ from in-sample (or training) predictions? This is an important idea from the last lesson.\n",
    "\n",
    "## Step 4: Calculate the Mean Absolute Error in Validation Data\n"
   ]
  },
  {
   "cell_type": "code",
   "execution_count": 10,
   "id": "05646b69",
   "metadata": {
    "execution": {
     "iopub.execute_input": "2022-10-16T01:39:06.658523Z",
     "iopub.status.busy": "2022-10-16T01:39:06.657387Z",
     "iopub.status.idle": "2022-10-16T01:39:06.671882Z",
     "shell.execute_reply": "2022-10-16T01:39:06.670623Z"
    },
    "papermill": {
     "duration": 0.025396,
     "end_time": "2022-10-16T01:39:06.674746",
     "exception": false,
     "start_time": "2022-10-16T01:39:06.649350",
     "status": "completed"
    },
    "tags": []
   },
   "outputs": [
    {
     "name": "stdout",
     "output_type": "stream",
     "text": [
      "29652.931506849316\n"
     ]
    },
    {
     "data": {
      "application/javascript": [
       "parent.postMessage({\"jupyterEvent\": \"custom.exercise_interaction\", \"data\": {\"outcomeType\": 1, \"valueTowardsCompletion\": 0.25, \"interactionType\": 1, \"questionType\": 1, \"questionId\": \"4_MAE\", \"learnToolsVersion\": \"0.3.4\", \"failureMessage\": \"\", \"exceptionClass\": \"\", \"trace\": \"\"}}, \"*\")"
      ],
      "text/plain": [
       "<IPython.core.display.Javascript object>"
      ]
     },
     "metadata": {},
     "output_type": "display_data"
    },
    {
     "data": {
      "text/markdown": [
       "<span style=\"color:#33cc33\">Correct</span>"
      ],
      "text/plain": [
       "Correct"
      ]
     },
     "metadata": {},
     "output_type": "display_data"
    }
   ],
   "source": [
    "from sklearn.metrics import mean_absolute_error\n",
    "val_mae = mean_absolute_error(val_predictions, val_y)\n",
    "\n",
    "# uncomment following line to see the validation_mae\n",
    "print(val_mae)\n",
    "\n",
    "# Check your answer\n",
    "step_4.check()"
   ]
  },
  {
   "cell_type": "code",
   "execution_count": 11,
   "id": "48c162ab",
   "metadata": {
    "execution": {
     "iopub.execute_input": "2022-10-16T01:39:06.690723Z",
     "iopub.status.busy": "2022-10-16T01:39:06.689905Z",
     "iopub.status.idle": "2022-10-16T01:39:06.695041Z",
     "shell.execute_reply": "2022-10-16T01:39:06.693986Z"
    },
    "papermill": {
     "duration": 0.015832,
     "end_time": "2022-10-16T01:39:06.697451",
     "exception": false,
     "start_time": "2022-10-16T01:39:06.681619",
     "status": "completed"
    },
    "tags": []
   },
   "outputs": [],
   "source": [
    "# step_4.hint()\n",
    "# step_4.solution()"
   ]
  },
  {
   "cell_type": "markdown",
   "id": "63f05a5b",
   "metadata": {
    "papermill": {
     "duration": 0.006123,
     "end_time": "2022-10-16T01:39:06.710058",
     "exception": false,
     "start_time": "2022-10-16T01:39:06.703935",
     "status": "completed"
    },
    "tags": []
   },
   "source": [
    "Is that MAE good?  There isn't a general rule for what values are good that applies across applications. But you'll see how to use (and improve) this number in the next step.\n",
    "\n",
    "# Keep Going\n",
    "\n",
    "You are ready for **[Underfitting and Overfitting](https://www.kaggle.com/dansbecker/underfitting-and-overfitting).**\n"
   ]
  },
  {
   "cell_type": "markdown",
   "id": "5fcfe490",
   "metadata": {
    "papermill": {
     "duration": 0.005962,
     "end_time": "2022-10-16T01:39:06.722278",
     "exception": false,
     "start_time": "2022-10-16T01:39:06.716316",
     "status": "completed"
    },
    "tags": []
   },
   "source": [
    "---\n",
    "\n",
    "\n",
    "\n",
    "\n",
    "*Have questions or comments? Visit the [course discussion forum](https://www.kaggle.com/learn/intro-to-machine-learning/discussion) to chat with other learners.*"
   ]
  }
 ],
 "metadata": {
  "kernelspec": {
   "display_name": "Python 3",
   "language": "python",
   "name": "python3"
  },
  "language_info": {
   "codemirror_mode": {
    "name": "ipython",
    "version": 3
   },
   "file_extension": ".py",
   "mimetype": "text/x-python",
   "name": "python",
   "nbconvert_exporter": "python",
   "pygments_lexer": "ipython3",
   "version": "3.7.12"
  },
  "papermill": {
   "default_parameters": {},
   "duration": 12.291784,
   "end_time": "2022-10-16T01:39:07.450307",
   "environment_variables": {},
   "exception": null,
   "input_path": "__notebook__.ipynb",
   "output_path": "__notebook__.ipynb",
   "parameters": {},
   "start_time": "2022-10-16T01:38:55.158523",
   "version": "2.3.4"
  }
 },
 "nbformat": 4,
 "nbformat_minor": 5
}
