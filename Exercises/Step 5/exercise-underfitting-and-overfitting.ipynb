{
 "cells": [
  {
   "cell_type": "markdown",
   "id": "33e6fadb",
   "metadata": {
    "papermill": {
     "duration": 0.00487,
     "end_time": "2022-10-16T10:47:53.551667",
     "exception": false,
     "start_time": "2022-10-16T10:47:53.546797",
     "status": "completed"
    },
    "tags": []
   },
   "source": [
    "**This notebook is an exercise in the [Introduction to Machine Learning](https://www.kaggle.com/learn/intro-to-machine-learning) course.  You can reference the tutorial at [this link](https://www.kaggle.com/dansbecker/underfitting-and-overfitting).**\n",
    "\n",
    "---\n"
   ]
  },
  {
   "cell_type": "markdown",
   "id": "639c06c6",
   "metadata": {
    "papermill": {
     "duration": 0.00543,
     "end_time": "2022-10-16T10:47:53.562716",
     "exception": false,
     "start_time": "2022-10-16T10:47:53.557286",
     "status": "completed"
    },
    "tags": []
   },
   "source": [
    "## Recap\n",
    "You've built your first model, and now it's time to optimize the size of the tree to make better predictions. Run this cell to set up your coding environment where the previous step left off."
   ]
  },
  {
   "cell_type": "code",
   "execution_count": 1,
   "id": "f8649cf3",
   "metadata": {
    "execution": {
     "iopub.execute_input": "2022-10-16T10:47:53.576424Z",
     "iopub.status.busy": "2022-10-16T10:47:53.575363Z",
     "iopub.status.idle": "2022-10-16T10:47:54.847819Z",
     "shell.execute_reply": "2022-10-16T10:47:54.846279Z"
    },
    "papermill": {
     "duration": 1.282967,
     "end_time": "2022-10-16T10:47:54.850950",
     "exception": false,
     "start_time": "2022-10-16T10:47:53.567983",
     "status": "completed"
    },
    "tags": []
   },
   "outputs": [
    {
     "name": "stdout",
     "output_type": "stream",
     "text": [
      "Validation MAE: 29,653\n",
      "\n",
      "Setup complete\n"
     ]
    }
   ],
   "source": [
    "# Code you have previously used to load data\n",
    "import pandas as pd\n",
    "from sklearn.metrics import mean_absolute_error\n",
    "from sklearn.model_selection import train_test_split\n",
    "from sklearn.tree import DecisionTreeRegressor\n",
    "\n",
    "\n",
    "# Path of the file to read\n",
    "iowa_file_path = '../input/home-data-for-ml-course/train.csv'\n",
    "\n",
    "home_data = pd.read_csv(iowa_file_path)\n",
    "# Create target object and call it y\n",
    "y = home_data.SalePrice\n",
    "# Create X\n",
    "features = ['LotArea', 'YearBuilt', '1stFlrSF', '2ndFlrSF', 'FullBath', 'BedroomAbvGr', 'TotRmsAbvGrd']\n",
    "X = home_data[features]\n",
    "\n",
    "# Split into validation and training data\n",
    "train_X, val_X, train_y, val_y = train_test_split(X, y, random_state=1)\n",
    "\n",
    "# Specify Model\n",
    "iowa_model = DecisionTreeRegressor(random_state=1)\n",
    "# Fit Model\n",
    "iowa_model.fit(train_X, train_y)\n",
    "\n",
    "# Make validation predictions and calculate mean absolute error\n",
    "val_predictions = iowa_model.predict(val_X)\n",
    "val_mae = mean_absolute_error(val_predictions, val_y)\n",
    "print(\"Validation MAE: {:,.0f}\".format(val_mae))\n",
    "\n",
    "# Set up code checking\n",
    "from learntools.core import binder\n",
    "binder.bind(globals())\n",
    "from learntools.machine_learning.ex5 import *\n",
    "print(\"\\nSetup complete\")"
   ]
  },
  {
   "cell_type": "markdown",
   "id": "dac180de",
   "metadata": {
    "papermill": {
     "duration": 0.003314,
     "end_time": "2022-10-16T10:47:54.858247",
     "exception": false,
     "start_time": "2022-10-16T10:47:54.854933",
     "status": "completed"
    },
    "tags": []
   },
   "source": [
    "# Exercises\n",
    "You could write the function `get_mae` yourself. For now, we'll supply it. This is the same function you read about in the previous lesson. Just run the cell below."
   ]
  },
  {
   "cell_type": "code",
   "execution_count": 2,
   "id": "ba0e7fc1",
   "metadata": {
    "execution": {
     "iopub.execute_input": "2022-10-16T10:47:54.868241Z",
     "iopub.status.busy": "2022-10-16T10:47:54.866915Z",
     "iopub.status.idle": "2022-10-16T10:47:54.873698Z",
     "shell.execute_reply": "2022-10-16T10:47:54.872897Z"
    },
    "papermill": {
     "duration": 0.014053,
     "end_time": "2022-10-16T10:47:54.875900",
     "exception": false,
     "start_time": "2022-10-16T10:47:54.861847",
     "status": "completed"
    },
    "tags": []
   },
   "outputs": [],
   "source": [
    "def get_mae(max_leaf_nodes, train_X, val_X, train_y, val_y):\n",
    "    model = DecisionTreeRegressor(max_leaf_nodes=max_leaf_nodes, random_state=0)\n",
    "    model.fit(train_X, train_y)\n",
    "    preds_val = model.predict(val_X)\n",
    "    mae = mean_absolute_error(val_y, preds_val)\n",
    "    return(mae)"
   ]
  },
  {
   "cell_type": "markdown",
   "id": "a86b460c",
   "metadata": {
    "papermill": {
     "duration": 0.0033,
     "end_time": "2022-10-16T10:47:54.882937",
     "exception": false,
     "start_time": "2022-10-16T10:47:54.879637",
     "status": "completed"
    },
    "tags": []
   },
   "source": [
    "## Step 1: Compare Different Tree Sizes\n",
    "Write a loop that tries the following values for *max_leaf_nodes* from a set of possible values.\n",
    "\n",
    "Call the *get_mae* function on each value of max_leaf_nodes. Store the output in some way that allows you to select the value of `max_leaf_nodes` that gives the most accurate model on your data."
   ]
  },
  {
   "cell_type": "code",
   "execution_count": 3,
   "id": "18ca3716",
   "metadata": {
    "execution": {
     "iopub.execute_input": "2022-10-16T10:47:54.893106Z",
     "iopub.status.busy": "2022-10-16T10:47:54.891473Z",
     "iopub.status.idle": "2022-10-16T10:47:54.941687Z",
     "shell.execute_reply": "2022-10-16T10:47:54.940553Z"
    },
    "papermill": {
     "duration": 0.057668,
     "end_time": "2022-10-16T10:47:54.944253",
     "exception": false,
     "start_time": "2022-10-16T10:47:54.886585",
     "status": "completed"
    },
    "tags": []
   },
   "outputs": [
    {
     "data": {
      "application/javascript": [
       "parent.postMessage({\"jupyterEvent\": \"custom.exercise_interaction\", \"data\": {\"outcomeType\": 1, \"valueTowardsCompletion\": 0.5, \"interactionType\": 1, \"questionType\": 1, \"questionId\": \"1_BestTreeSize\", \"learnToolsVersion\": \"0.3.4\", \"failureMessage\": \"\", \"exceptionClass\": \"\", \"trace\": \"\"}}, \"*\")"
      ],
      "text/plain": [
       "<IPython.core.display.Javascript object>"
      ]
     },
     "metadata": {},
     "output_type": "display_data"
    },
    {
     "data": {
      "text/markdown": [
       "<span style=\"color:#33cc33\">Correct</span>"
      ],
      "text/plain": [
       "Correct"
      ]
     },
     "metadata": {},
     "output_type": "display_data"
    }
   ],
   "source": [
    "candidate_max_leaf_nodes = [5, 25, 50, 100, 250, 500]\n",
    "# Write loop to find the ideal tree size from candidate_max_leaf_nodes\n",
    "best = candidate_max_leaf_nodes[0]\n",
    "minimum = get_mae(best, train_X, val_X, train_y, val_y)\n",
    "for i in candidate_max_leaf_nodes[1:]:\n",
    "    aux = get_mae(i, train_X, val_X, train_y, val_y)\n",
    "    if minimum > aux:\n",
    "        best = i\n",
    "        minimum = aux\n",
    "\n",
    "# Store the best value of max_leaf_nodes (it will be either 5, 25, 50, 100, 250 or 500)\n",
    "best_tree_size = best\n",
    "\n",
    "# Check your answer\n",
    "step_1.check()"
   ]
  },
  {
   "cell_type": "code",
   "execution_count": 4,
   "id": "89c6cb05",
   "metadata": {
    "execution": {
     "iopub.execute_input": "2022-10-16T10:47:54.953528Z",
     "iopub.status.busy": "2022-10-16T10:47:54.953122Z",
     "iopub.status.idle": "2022-10-16T10:47:54.957866Z",
     "shell.execute_reply": "2022-10-16T10:47:54.956697Z"
    },
    "papermill": {
     "duration": 0.012212,
     "end_time": "2022-10-16T10:47:54.960329",
     "exception": false,
     "start_time": "2022-10-16T10:47:54.948117",
     "status": "completed"
    },
    "tags": []
   },
   "outputs": [],
   "source": [
    "# The lines below will show you a hint or the solution.\n",
    "# step_1.hint() \n",
    "# step_1.solution()"
   ]
  },
  {
   "cell_type": "markdown",
   "id": "427424d9",
   "metadata": {
    "papermill": {
     "duration": 0.003567,
     "end_time": "2022-10-16T10:47:54.967784",
     "exception": false,
     "start_time": "2022-10-16T10:47:54.964217",
     "status": "completed"
    },
    "tags": []
   },
   "source": [
    "## Step 2: Fit Model Using All Data\n",
    "You know the best tree size. If you were going to deploy this model in practice, you would make it even more accurate by using all of the data and keeping that tree size.  That is, you don't need to hold out the validation data now that you've made all your modeling decisions."
   ]
  },
  {
   "cell_type": "code",
   "execution_count": 5,
   "id": "bc8302f5",
   "metadata": {
    "execution": {
     "iopub.execute_input": "2022-10-16T10:47:54.977651Z",
     "iopub.status.busy": "2022-10-16T10:47:54.976681Z",
     "iopub.status.idle": "2022-10-16T10:47:54.994960Z",
     "shell.execute_reply": "2022-10-16T10:47:54.993846Z"
    },
    "papermill": {
     "duration": 0.025985,
     "end_time": "2022-10-16T10:47:54.997532",
     "exception": false,
     "start_time": "2022-10-16T10:47:54.971547",
     "status": "completed"
    },
    "tags": []
   },
   "outputs": [
    {
     "data": {
      "application/javascript": [
       "parent.postMessage({\"jupyterEvent\": \"custom.exercise_interaction\", \"data\": {\"outcomeType\": 1, \"valueTowardsCompletion\": 0.5, \"interactionType\": 1, \"questionType\": 2, \"questionId\": \"2_FitModelWithAllData\", \"learnToolsVersion\": \"0.3.4\", \"failureMessage\": \"\", \"exceptionClass\": \"\", \"trace\": \"\"}}, \"*\")"
      ],
      "text/plain": [
       "<IPython.core.display.Javascript object>"
      ]
     },
     "metadata": {},
     "output_type": "display_data"
    },
    {
     "data": {
      "text/markdown": [
       "<span style=\"color:#33cc33\">Correct</span>"
      ],
      "text/plain": [
       "Correct"
      ]
     },
     "metadata": {},
     "output_type": "display_data"
    }
   ],
   "source": [
    "# Fill in argument to make optimal size and uncomment\n",
    "final_model = DecisionTreeRegressor(max_leaf_nodes=best_tree_size, random_state=0)\n",
    "\n",
    "# fit the final model and uncomment the next two lines\n",
    "final_model.fit(X, y)\n",
    "\n",
    "# Check your answer\n",
    "step_2.check()"
   ]
  },
  {
   "cell_type": "code",
   "execution_count": 6,
   "id": "0e72b7e7",
   "metadata": {
    "execution": {
     "iopub.execute_input": "2022-10-16T10:47:55.007794Z",
     "iopub.status.busy": "2022-10-16T10:47:55.007371Z",
     "iopub.status.idle": "2022-10-16T10:47:55.011829Z",
     "shell.execute_reply": "2022-10-16T10:47:55.010983Z"
    },
    "papermill": {
     "duration": 0.012303,
     "end_time": "2022-10-16T10:47:55.014080",
     "exception": false,
     "start_time": "2022-10-16T10:47:55.001777",
     "status": "completed"
    },
    "tags": []
   },
   "outputs": [],
   "source": [
    "# step_2.hint()\n",
    "# step_2.solution()"
   ]
  },
  {
   "cell_type": "markdown",
   "id": "f20829e0",
   "metadata": {
    "papermill": {
     "duration": 0.003852,
     "end_time": "2022-10-16T10:47:55.022238",
     "exception": false,
     "start_time": "2022-10-16T10:47:55.018386",
     "status": "completed"
    },
    "tags": []
   },
   "source": [
    "You've tuned this model and improved your results. But we are still using Decision Tree models, which are not very sophisticated by modern machine learning standards. In the next step you will learn to use Random Forests to improve your models even more.\n",
    "\n",
    "# Keep Going\n",
    "\n",
    "You are ready for **[Random Forests](https://www.kaggle.com/dansbecker/random-forests).**\n"
   ]
  },
  {
   "cell_type": "markdown",
   "id": "13af3482",
   "metadata": {
    "papermill": {
     "duration": 0.004731,
     "end_time": "2022-10-16T10:47:55.031075",
     "exception": false,
     "start_time": "2022-10-16T10:47:55.026344",
     "status": "completed"
    },
    "tags": []
   },
   "source": [
    "---\n",
    "\n",
    "\n",
    "\n",
    "\n",
    "*Have questions or comments? Visit the [course discussion forum](https://www.kaggle.com/learn/intro-to-machine-learning/discussion) to chat with other learners.*"
   ]
  }
 ],
 "metadata": {
  "kernelspec": {
   "display_name": "Python 3",
   "language": "python",
   "name": "python3"
  },
  "language_info": {
   "codemirror_mode": {
    "name": "ipython",
    "version": 3
   },
   "file_extension": ".py",
   "mimetype": "text/x-python",
   "name": "python",
   "nbconvert_exporter": "python",
   "pygments_lexer": "ipython3",
   "version": "3.7.12"
  },
  "papermill": {
   "default_parameters": {},
   "duration": 12.084097,
   "end_time": "2022-10-16T10:47:55.758251",
   "environment_variables": {},
   "exception": null,
   "input_path": "__notebook__.ipynb",
   "output_path": "__notebook__.ipynb",
   "parameters": {},
   "start_time": "2022-10-16T10:47:43.674154",
   "version": "2.3.4"
  }
 },
 "nbformat": 4,
 "nbformat_minor": 5
}
